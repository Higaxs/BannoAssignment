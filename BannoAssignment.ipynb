{
 "cells": [
  {
   "cell_type": "code",
   "execution_count": 46,
   "metadata": {},
   "outputs": [
    {
     "name": "stdout",
     "output_type": "stream",
     "text": [
      "Top 3 most common alphanumeric characters (Cases considered) and their counts:\n",
      "n: 1401\n",
      "e: 1219\n",
      "t: 1165\n",
      "Top 3 most common alphanumeric characters (Cases ignored) and their counts:\n",
      "n: 1422\n",
      "e: 1247\n",
      "t: 1182\n",
      "Number of .png images:\n",
      "18\n",
      "Twitter Handle:\n",
      "@bannoJHA\n",
      "Number of times \"financial institution\" occurs in the text on the page:\n",
      "1\n",
      "Number of times \"financial institution\" occurs in the text of the html:\n",
      "5\n",
      "The number of products offered on \"https://banno.com/features/\":\n",
      "7\n"
     ]
    }
   ],
   "source": [
    "import collections\n",
    "import requests\n",
    "from bs4 import BeautifulSoup\n",
    "response = requests.get(\"https://banno.com/\")\n",
    "content = response.content\n",
    "c = collections.Counter()\n",
    "c2 = collections.Counter()\n",
    "alphanumeric = \"\"\n",
    "alphabet = \"abcdefghijklmnopqrstuvwxyz0123456789\"\n",
    "for char in str(content):\n",
    "    if char.lower() in alphabet:\n",
    "        alphanumeric += char\n",
    "c.update(alphanumeric)\n",
    "c2.update(alphanumeric.lower())\n",
    "print(\"Top 3 most common alphanumeric characters (Cases considered) and their counts:\")\n",
    "for letter, count in c.most_common(3):\n",
    "    print(\"{0}: {1}\".format(letter, count))\n",
    "print(\"Top 3 most common alphanumeric characters (Cases ignored) and their counts:\")\n",
    "for letter, count in c2.most_common(3):\n",
    "    print(\"{0}: {1}\".format(letter, count))\n",
    "print(\"Number of .png images:\")\n",
    "print(len(str(content).split(\".png\")) - 1)\n",
    "twitterHandle = str(content).split(\"\\\">Twitter\")[0].split(\"/\")[-1]\n",
    "print(\"Twitter Handle:\")\n",
    "print(\"@\" + twitterHandle)\n",
    "print(\"Number of times \\\"financial institution\\\" occurs in the text on the page:\")\n",
    "count = len(str(content).split(\"<body>\")[1].split(\"</body>\")[0].split(\"financial institution\")) - 1\n",
    "print(count)\n",
    "print(\"Number of times \\\"financial institution\\\" occurs in the text of the html:\")\n",
    "count2 = len(str(content).split(\"financial institution\")) - 1\n",
    "print(count2)\n",
    "response2 = requests.get(\"https://banno.com/features/\")\n",
    "content2 = response2.content\n",
    "productCount = len(str(content2).split(\"flex-item feature-group-label\")) - 1\n",
    "print(\"The number of products offered on \\\"https://banno.com/features/\\\":\")\n",
    "print(productCount)"
   ]
  },
  {
   "cell_type": "code",
   "execution_count": null,
   "metadata": {
    "collapsed": true
   },
   "outputs": [],
   "source": []
  }
 ],
 "metadata": {
  "kernelspec": {
   "display_name": "Python 3",
   "language": "python",
   "name": "python3"
  },
  "language_info": {
   "codemirror_mode": {
    "name": "ipython",
    "version": 3
   },
   "file_extension": ".py",
   "mimetype": "text/x-python",
   "name": "python",
   "nbconvert_exporter": "python",
   "pygments_lexer": "ipython3",
   "version": "3.6.1"
  }
 },
 "nbformat": 4,
 "nbformat_minor": 2
}
